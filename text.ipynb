{
 "cells": [
  {
   "cell_type": "code",
   "execution_count": 1,
   "id": "21774e46",
   "metadata": {},
   "outputs": [],
   "source": [
    "import numpy as np # linear algebra\n",
    "import pandas as pd # data processing, CSV file I/O (e.g. pd.read_csv)\n",
    "\n",
    "# Input data files are available in the read-only \"../input/\" directory\n",
    "# For example, running this (by clicking run or pressing Shift+Enter) will list all files under the input directory\n"
   ]
  },
  {
   "cell_type": "code",
   "execution_count": 2,
   "id": "ad884272",
   "metadata": {},
   "outputs": [],
   "source": [
    "import os\n",
    "for dirname, _, filenames in os.walk('/kaggle/input'):\n",
    "    for filename in filenames:\n",
    "        print(os.path.join(dirname, filename))"
   ]
  },
  {
   "cell_type": "code",
   "execution_count": 3,
   "id": "c87de17c",
   "metadata": {},
   "outputs": [],
   "source": [
    "text=\"\"\"In light of recent news from Apple, facial recognition technology is now the talk of the town. Ranging from privacy concerns to a curious boyfriend unlocking his girlfriend’s phone while she sleeps. The first commercial application of 3D facial recognition means that biometric technology is advancing at a staggering rate but so is the ability to hack or fool facial recognition tech.\n",
    "\n",
    "Today, 99% of the infrastructure scattered around the world consists of 2D cameras capable of running advanced facial recognition software and it will likely be years before a physical overhaul to 3D cameras takes place. Hackers, hobbyists, educators and the like have been developing creative ways to either fool or hide from 2D face recognition in a perpetually innovative game of cat and mouse.\n",
    "\n",
    "The introduction of 3D recognition will give way to an entirely new thought process of how to beat an incredibly advanced technology, and also raise some questions as to how and by whom it will be used. The fight is futile as the effort exerted to trick this technology is better spent working with the facial recognition companies to enforce acceptable regulations.\n",
    "\n",
    "First, I question the intention of these types of face recognition-fooling solutions. Are they for bad actors hoping to sneak away undetected? Are they for people who are concerned about their picture being stored in a massive database (I’d worry more about posting a picture to Facebook…)? Are they to demonstrate the inherent risk of biometric information?\n",
    "\n",
    "The variations that humans have designed to deceive the machine are more likely to make you stand out than blend in. Such as custom makeup, hairstyles, masks, a pair of glasses designed at Carnegie Melon consisting of camouflage patterns or simply wearing a box over your head. Some of them are realistic, but most are just for fun.\n",
    "\n",
    "As these techniques improve, so does the technology capable of identifying and training against them resulting in more robust face recognition software. These solutions seem like a great way to protect individuals who are looking to keep their identity hidden for nefarious reasons.\n",
    "\n",
    "A further concern would be detecting an attempt to impersonate an individual by using a picture of their face. With 3D cameras, this type of hack is very difficult to achieve due to the complexity of depth measurements. Facial recognition technology can run liveness detection or use additional hardware for heat sensing, both of which are capable of being tricked to a degree as seen with Samsung and Google.\n",
    "\n",
    "The availability of public facial images is far more concerning due to the ease of which you would be able to render a 3D model from a small set of images and use virtual reality tools to project a face.\n",
    "\n",
    "On the surface, these types of hacks would seem alarming but if gaining access to your phone now is as easy as guessing a 4-digit passcode, society should deem these tolerable risks.\n",
    "\n",
    "Ultimately it is on facial recognition companies and Trueface to mitigate this risk by being more innovative, detecting consistencies in attacks and training the technology to identify when hacks occur. This game will continue to be played and become significantly more sophisticated with the adoption of 3D facial recognition.\n",
    "\n",
    "\"\"\""
   ]
  },
  {
   "cell_type": "code",
   "execution_count": 7,
   "id": "681834cc",
   "metadata": {},
   "outputs": [],
   "source": [
    "import spacy\n",
    "from spacy.lang.en.stop_words import STOP_WORDS\n",
    "from string import punctuation"
   ]
  },
  {
   "cell_type": "code",
   "execution_count": 8,
   "id": "9433e2d3",
   "metadata": {},
   "outputs": [],
   "source": [
    "stopwords=list(STOP_WORDS)"
   ]
  },
  {
   "cell_type": "code",
   "execution_count": 9,
   "id": "4caf2b60",
   "metadata": {},
   "outputs": [
    {
     "data": {
      "text/plain": [
       "['me',\n",
       " '’ve',\n",
       " 'really',\n",
       " 'whereafter',\n",
       " 'they',\n",
       " 'quite',\n",
       " 'everything',\n",
       " 'n‘t',\n",
       " 'of',\n",
       " 'front',\n",
       " 'no',\n",
       " 'some',\n",
       " 'serious',\n",
       " 'should',\n",
       " 'via',\n",
       " 'could',\n",
       " 'again',\n",
       " 'keep',\n",
       " 'for',\n",
       " 'something',\n",
       " 'were',\n",
       " 'beyond',\n",
       " 'yours',\n",
       " 'just',\n",
       " 'well',\n",
       " 'her',\n",
       " 'unless',\n",
       " 'a',\n",
       " 'nowhere',\n",
       " 'here',\n",
       " 'against',\n",
       " \"'re\",\n",
       " 'someone',\n",
       " 'what',\n",
       " 'however',\n",
       " 'by',\n",
       " 'each',\n",
       " 'itself',\n",
       " 'thereby',\n",
       " 'few',\n",
       " 'already',\n",
       " 'nor',\n",
       " 'thereupon',\n",
       " 'wherein',\n",
       " 'at',\n",
       " 'my',\n",
       " 'very',\n",
       " 'whereby',\n",
       " 'this',\n",
       " 'fifty',\n",
       " 'go',\n",
       " 'but',\n",
       " 'from',\n",
       " 'hereafter',\n",
       " 'move',\n",
       " 'onto',\n",
       " 'to',\n",
       " 'below',\n",
       " 'full',\n",
       " 'show',\n",
       " 'without',\n",
       " 'whatever',\n",
       " 'take',\n",
       " 'off',\n",
       " 'as',\n",
       " '‘s',\n",
       " 'have',\n",
       " 'whoever',\n",
       " 'your',\n",
       " 'themselves',\n",
       " 'about',\n",
       " 'still',\n",
       " 'latter',\n",
       " 'nevertheless',\n",
       " 'namely',\n",
       " 'sometime',\n",
       " 'three',\n",
       " 'nothing',\n",
       " 'former',\n",
       " 'then',\n",
       " 'on',\n",
       " 'n’t',\n",
       " 'will',\n",
       " 'only',\n",
       " 'because',\n",
       " 'with',\n",
       " 'he',\n",
       " 'among',\n",
       " 'twelve',\n",
       " 'bottom',\n",
       " 'see',\n",
       " 'else',\n",
       " 'top',\n",
       " '‘ll',\n",
       " 'hereupon',\n",
       " 'everywhere',\n",
       " 'become',\n",
       " 'whose',\n",
       " 'give',\n",
       " 'us',\n",
       " 'part',\n",
       " 'out',\n",
       " 'there',\n",
       " 'during',\n",
       " 'their',\n",
       " 'becoming',\n",
       " 'same',\n",
       " 'somehow',\n",
       " 'behind',\n",
       " 'whence',\n",
       " 'one',\n",
       " 'thereafter',\n",
       " 'mine',\n",
       " 'did',\n",
       " 'yourself',\n",
       " 'amongst',\n",
       " 'beforehand',\n",
       " 'several',\n",
       " 'other',\n",
       " 'also',\n",
       " 'make',\n",
       " 'than',\n",
       " 'regarding',\n",
       " 'while',\n",
       " 'under',\n",
       " 'although',\n",
       " 'between',\n",
       " 'thru',\n",
       " 'empty',\n",
       " 'i',\n",
       " 'whether',\n",
       " 'anyway',\n",
       " 'anywhere',\n",
       " 'rather',\n",
       " 'his',\n",
       " 'toward',\n",
       " '’m',\n",
       " 'whereas',\n",
       " 'you',\n",
       " 'six',\n",
       " 'various',\n",
       " 'others',\n",
       " 'formerly',\n",
       " 'somewhere',\n",
       " 'besides',\n",
       " 'using',\n",
       " 'seem',\n",
       " 'becomes',\n",
       " 'almost',\n",
       " 'those',\n",
       " 'anyone',\n",
       " 'either',\n",
       " 'do',\n",
       " 'since',\n",
       " 'too',\n",
       " 'yourselves',\n",
       " 'therein',\n",
       " 'so',\n",
       " '‘d',\n",
       " 'we',\n",
       " 'herself',\n",
       " 'though',\n",
       " 'whom',\n",
       " 'many',\n",
       " 'can',\n",
       " 'being',\n",
       " 'been',\n",
       " 'per',\n",
       " 'put',\n",
       " 'once',\n",
       " 'are',\n",
       " 'seems',\n",
       " 'does',\n",
       " 'him',\n",
       " 'down',\n",
       " 'say',\n",
       " 'get',\n",
       " 'all',\n",
       " 'together',\n",
       " 'it',\n",
       " 'first',\n",
       " 'whither',\n",
       " 'above',\n",
       " 'ten',\n",
       " 'whole',\n",
       " 'amount',\n",
       " 'within',\n",
       " 'except',\n",
       " 'eight',\n",
       " 'last',\n",
       " 'before',\n",
       " 'not',\n",
       " 'two',\n",
       " 'am',\n",
       " 'where',\n",
       " 'moreover',\n",
       " 'sometimes',\n",
       " 'alone',\n",
       " 'beside',\n",
       " 'up',\n",
       " 'throughout',\n",
       " 'elsewhere',\n",
       " 'who',\n",
       " 'is',\n",
       " 'side',\n",
       " 'which',\n",
       " 'into',\n",
       " 'such',\n",
       " 'may',\n",
       " 'latterly',\n",
       " 'must',\n",
       " 'now',\n",
       " 'made',\n",
       " 'had',\n",
       " 'became',\n",
       " 'twenty',\n",
       " 'more',\n",
       " 'indeed',\n",
       " 'why',\n",
       " 'perhaps',\n",
       " 'our',\n",
       " 'both',\n",
       " 'across',\n",
       " 'or',\n",
       " 'the',\n",
       " 'ourselves',\n",
       " 'wherever',\n",
       " 'name',\n",
       " 'an',\n",
       " 'thus',\n",
       " \"'s\",\n",
       " 'in',\n",
       " 'herein',\n",
       " 'these',\n",
       " 'often',\n",
       " '‘ve',\n",
       " \"n't\",\n",
       " 'every',\n",
       " 'less',\n",
       " 'ca',\n",
       " 'seeming',\n",
       " 'was',\n",
       " 'over',\n",
       " 'any',\n",
       " 'be',\n",
       " '’ll',\n",
       " 'hereby',\n",
       " 'hence',\n",
       " 'further',\n",
       " 'whereupon',\n",
       " 'whenever',\n",
       " 'himself',\n",
       " 'otherwise',\n",
       " 'myself',\n",
       " 'forty',\n",
       " 'hundred',\n",
       " 'might',\n",
       " 'please',\n",
       " 'ours',\n",
       " 'done',\n",
       " 'call',\n",
       " \"'ll\",\n",
       " '’s',\n",
       " 'how',\n",
       " 'anyhow',\n",
       " '‘m',\n",
       " 'next',\n",
       " 'least',\n",
       " 'none',\n",
       " 'therefore',\n",
       " 'towards',\n",
       " 'after',\n",
       " 'nine',\n",
       " 'due',\n",
       " 'them',\n",
       " 'four',\n",
       " 'most',\n",
       " 'has',\n",
       " 'if',\n",
       " 'neither',\n",
       " 'seemed',\n",
       " 'always',\n",
       " 'yet',\n",
       " 're',\n",
       " 'used',\n",
       " 'own',\n",
       " '’re',\n",
       " 'meanwhile',\n",
       " 'that',\n",
       " 'upon',\n",
       " 'anything',\n",
       " 'until',\n",
       " 'much',\n",
       " 'five',\n",
       " 'eleven',\n",
       " 'back',\n",
       " 'when',\n",
       " 'even',\n",
       " 'mostly',\n",
       " 'she',\n",
       " \"'ve\",\n",
       " 'its',\n",
       " '‘re',\n",
       " 'thence',\n",
       " 'fifteen',\n",
       " 'enough',\n",
       " 'along',\n",
       " 'another',\n",
       " 'cannot',\n",
       " 'noone',\n",
       " 'never',\n",
       " 'afterwards',\n",
       " 'around',\n",
       " 'everyone',\n",
       " 'and',\n",
       " \"'d\",\n",
       " 'ever',\n",
       " 'sixty',\n",
       " 'through',\n",
       " 'doing',\n",
       " '’d',\n",
       " \"'m\",\n",
       " 'would',\n",
       " 'nobody',\n",
       " 'third',\n",
       " 'hers']"
      ]
     },
     "execution_count": 9,
     "metadata": {},
     "output_type": "execute_result"
    }
   ],
   "source": [
    "stopwords"
   ]
  },
  {
   "cell_type": "code",
   "execution_count": 11,
   "id": "61e45ab3",
   "metadata": {},
   "outputs": [],
   "source": [
    "nlp=spacy.load('en_core_web_sm')"
   ]
  },
  {
   "cell_type": "code",
   "execution_count": 12,
   "id": "16ad3bd5",
   "metadata": {},
   "outputs": [],
   "source": [
    "doc=nlp(text)"
   ]
  },
  {
   "cell_type": "code",
   "execution_count": 13,
   "id": "babded9f",
   "metadata": {},
   "outputs": [
    {
     "name": "stdout",
     "output_type": "stream",
     "text": [
      "In light of recent news from Apple, facial recognition technology is now the talk of the town. Ranging from privacy concerns to a curious boyfriend unlocking his girlfriend’s phone while she sleeps. The first commercial application of 3D facial recognition means that biometric technology is advancing at a staggering rate but so is the ability to hack or fool facial recognition tech.\n",
      "\n",
      "Today, 99% of the infrastructure scattered around the world consists of 2D cameras capable of running advanced facial recognition software and it will likely be years before a physical overhaul to 3D cameras takes place. Hackers, hobbyists, educators and the like have been developing creative ways to either fool or hide from 2D face recognition in a perpetually innovative game of cat and mouse.\n",
      "\n",
      "The introduction of 3D recognition will give way to an entirely new thought process of how to beat an incredibly advanced technology, and also raise some questions as to how and by whom it will be used. The fight is futile as the effort exerted to trick this technology is better spent working with the facial recognition companies to enforce acceptable regulations.\n",
      "\n",
      "First, I question the intention of these types of face recognition-fooling solutions. Are they for bad actors hoping to sneak away undetected? Are they for people who are concerned about their picture being stored in a massive database (I’d worry more about posting a picture to Facebook…)? Are they to demonstrate the inherent risk of biometric information?\n",
      "\n",
      "The variations that humans have designed to deceive the machine are more likely to make you stand out than blend in. Such as custom makeup, hairstyles, masks, a pair of glasses designed at Carnegie Melon consisting of camouflage patterns or simply wearing a box over your head. Some of them are realistic, but most are just for fun.\n",
      "\n",
      "As these techniques improve, so does the technology capable of identifying and training against them resulting in more robust face recognition software. These solutions seem like a great way to protect individuals who are looking to keep their identity hidden for nefarious reasons.\n",
      "\n",
      "A further concern would be detecting an attempt to impersonate an individual by using a picture of their face. With 3D cameras, this type of hack is very difficult to achieve due to the complexity of depth measurements. Facial recognition technology can run liveness detection or use additional hardware for heat sensing, both of which are capable of being tricked to a degree as seen with Samsung and Google.\n",
      "\n",
      "The availability of public facial images is far more concerning due to the ease of which you would be able to render a 3D model from a small set of images and use virtual reality tools to project a face.\n",
      "\n",
      "On the surface, these types of hacks would seem alarming but if gaining access to your phone now is as easy as guessing a 4-digit passcode, society should deem these tolerable risks.\n",
      "\n",
      "Ultimately it is on facial recognition companies and Trueface to mitigate this risk by being more innovative, detecting consistencies in attacks and training the technology to identify when hacks occur. This game will continue to be played and become significantly more sophisticated with the adoption of 3D facial recognition.\n",
      "\n",
      "\n"
     ]
    }
   ],
   "source": [
    "tokens=[token.text for token in doc]\n",
    "print(doc)"
   ]
  },
  {
   "cell_type": "code",
   "execution_count": 14,
   "id": "edbe4b2f",
   "metadata": {},
   "outputs": [
    {
     "data": {
      "text/plain": [
       "'!\"#$%&\\'()*+,-./:;<=>?@[\\\\]^_`{|}~/n'"
      ]
     },
     "execution_count": 14,
     "metadata": {},
     "output_type": "execute_result"
    }
   ],
   "source": [
    "punctuation+='/n'\n",
    "punctuation"
   ]
  },
  {
   "cell_type": "code",
   "execution_count": 15,
   "id": "447c4a11",
   "metadata": {},
   "outputs": [],
   "source": [
    "word_freq={}\n",
    "for word in doc:\n",
    "    if word.text.lower() not in stopwords:\n",
    "        if word.text.lower() not in punctuation:\n",
    "            if word.text not in word_freq.keys():\n",
    "                word_freq[word.text]=1\n",
    "            else:\n",
    "                word_freq[word.text]+=1"
   ]
  },
  {
   "cell_type": "code",
   "execution_count": 16,
   "id": "f16a5367",
   "metadata": {},
   "outputs": [
    {
     "name": "stdout",
     "output_type": "stream",
     "text": [
      "{'light': 1, 'recent': 1, 'news': 1, 'Apple': 1, 'facial': 8, 'recognition': 12, 'technology': 7, 'talk': 1, 'town': 1, 'Ranging': 1, 'privacy': 1, 'concerns': 1, 'curious': 1, 'boyfriend': 1, 'unlocking': 1, 'girlfriend': 1, 'phone': 2, 'sleeps': 1, 'commercial': 1, 'application': 1, '3D': 6, 'means': 1, 'biometric': 2, 'advancing': 1, 'staggering': 1, 'rate': 1, 'ability': 1, 'hack': 2, 'fool': 2, 'tech': 1, '\\n\\n': 10, 'Today': 1, '99': 1, 'infrastructure': 1, 'scattered': 1, 'world': 1, 'consists': 1, '2D': 2, 'cameras': 3, 'capable': 3, 'running': 1, 'advanced': 2, 'software': 2, 'likely': 2, 'years': 1, 'physical': 1, 'overhaul': 1, 'takes': 1, 'place': 1, 'Hackers': 1, 'hobbyists': 1, 'educators': 1, 'like': 2, 'developing': 1, 'creative': 1, 'ways': 1, 'hide': 1, 'face': 5, 'perpetually': 1, 'innovative': 2, 'game': 2, 'cat': 1, 'mouse': 1, 'introduction': 1, 'way': 2, 'entirely': 1, 'new': 1, 'thought': 1, 'process': 1, 'beat': 1, 'incredibly': 1, 'raise': 1, 'questions': 1, 'fight': 1, 'futile': 1, 'effort': 1, 'exerted': 1, 'trick': 1, 'better': 1, 'spent': 1, 'working': 1, 'companies': 2, 'enforce': 1, 'acceptable': 1, 'regulations': 1, 'question': 1, 'intention': 1, 'types': 2, 'fooling': 1, 'solutions': 2, 'bad': 1, 'actors': 1, 'hoping': 1, 'sneak': 1, 'away': 1, 'undetected': 1, 'people': 1, 'concerned': 1, 'picture': 3, 'stored': 1, 'massive': 1, 'database': 1, 'worry': 1, 'posting': 1, 'Facebook': 1, '…': 1, 'demonstrate': 1, 'inherent': 1, 'risk': 2, 'information': 1, 'variations': 1, 'humans': 1, 'designed': 2, 'deceive': 1, 'machine': 1, 'stand': 1, 'blend': 1, 'custom': 1, 'makeup': 1, 'hairstyles': 1, 'masks': 1, 'pair': 1, 'glasses': 1, 'Carnegie': 1, 'Melon': 1, 'consisting': 1, 'camouflage': 1, 'patterns': 1, 'simply': 1, 'wearing': 1, 'box': 1, 'head': 1, 'realistic': 1, 'fun': 1, 'techniques': 1, 'improve': 1, 'identifying': 1, 'training': 2, 'resulting': 1, 'robust': 1, 'great': 1, 'protect': 1, 'individuals': 1, 'looking': 1, 'identity': 1, 'hidden': 1, 'nefarious': 1, 'reasons': 1, 'concern': 1, 'detecting': 2, 'attempt': 1, 'impersonate': 1, 'individual': 1, 'type': 1, 'difficult': 1, 'achieve': 1, 'complexity': 1, 'depth': 1, 'measurements': 1, 'Facial': 1, 'run': 1, 'liveness': 1, 'detection': 1, 'use': 2, 'additional': 1, 'hardware': 1, 'heat': 1, 'sensing': 1, 'tricked': 1, 'degree': 1, 'seen': 1, 'Samsung': 1, 'Google': 1, 'availability': 1, 'public': 1, 'images': 2, 'far': 1, 'concerning': 1, 'ease': 1, 'able': 1, 'render': 1, 'model': 1, 'small': 1, 'set': 1, 'virtual': 1, 'reality': 1, 'tools': 1, 'project': 1, 'surface': 1, 'hacks': 2, 'alarming': 1, 'gaining': 1, 'access': 1, 'easy': 1, 'guessing': 1, '4': 1, 'digit': 1, 'passcode': 1, 'society': 1, 'deem': 1, 'tolerable': 1, 'risks': 1, 'Ultimately': 1, 'Trueface': 1, 'mitigate': 1, 'consistencies': 1, 'attacks': 1, 'identify': 1, 'occur': 1, 'continue': 1, 'played': 1, 'significantly': 1, 'sophisticated': 1, 'adoption': 1}\n"
     ]
    }
   ],
   "source": [
    "print(word_freq)"
   ]
  },
  {
   "cell_type": "code",
   "execution_count": 17,
   "id": "28f68d96",
   "metadata": {},
   "outputs": [
    {
     "data": {
      "text/plain": [
       "12"
      ]
     },
     "execution_count": 17,
     "metadata": {},
     "output_type": "execute_result"
    }
   ],
   "source": [
    "max_freq=max(word_freq.values())\n",
    "max_freq"
   ]
  },
  {
   "cell_type": "code",
   "execution_count": 18,
   "id": "b8567785",
   "metadata": {},
   "outputs": [],
   "source": [
    "for word in word_freq.keys():\n",
    "    word_freq[word]=word_freq[word]/max_freq"
   ]
  },
  {
   "cell_type": "code",
   "execution_count": 19,
   "id": "5752272c",
   "metadata": {},
   "outputs": [
    {
     "name": "stdout",
     "output_type": "stream",
     "text": [
      "{'light': 0.08333333333333333, 'recent': 0.08333333333333333, 'news': 0.08333333333333333, 'Apple': 0.08333333333333333, 'facial': 0.6666666666666666, 'recognition': 1.0, 'technology': 0.5833333333333334, 'talk': 0.08333333333333333, 'town': 0.08333333333333333, 'Ranging': 0.08333333333333333, 'privacy': 0.08333333333333333, 'concerns': 0.08333333333333333, 'curious': 0.08333333333333333, 'boyfriend': 0.08333333333333333, 'unlocking': 0.08333333333333333, 'girlfriend': 0.08333333333333333, 'phone': 0.16666666666666666, 'sleeps': 0.08333333333333333, 'commercial': 0.08333333333333333, 'application': 0.08333333333333333, '3D': 0.5, 'means': 0.08333333333333333, 'biometric': 0.16666666666666666, 'advancing': 0.08333333333333333, 'staggering': 0.08333333333333333, 'rate': 0.08333333333333333, 'ability': 0.08333333333333333, 'hack': 0.16666666666666666, 'fool': 0.16666666666666666, 'tech': 0.08333333333333333, '\\n\\n': 0.8333333333333334, 'Today': 0.08333333333333333, '99': 0.08333333333333333, 'infrastructure': 0.08333333333333333, 'scattered': 0.08333333333333333, 'world': 0.08333333333333333, 'consists': 0.08333333333333333, '2D': 0.16666666666666666, 'cameras': 0.25, 'capable': 0.25, 'running': 0.08333333333333333, 'advanced': 0.16666666666666666, 'software': 0.16666666666666666, 'likely': 0.16666666666666666, 'years': 0.08333333333333333, 'physical': 0.08333333333333333, 'overhaul': 0.08333333333333333, 'takes': 0.08333333333333333, 'place': 0.08333333333333333, 'Hackers': 0.08333333333333333, 'hobbyists': 0.08333333333333333, 'educators': 0.08333333333333333, 'like': 0.16666666666666666, 'developing': 0.08333333333333333, 'creative': 0.08333333333333333, 'ways': 0.08333333333333333, 'hide': 0.08333333333333333, 'face': 0.4166666666666667, 'perpetually': 0.08333333333333333, 'innovative': 0.16666666666666666, 'game': 0.16666666666666666, 'cat': 0.08333333333333333, 'mouse': 0.08333333333333333, 'introduction': 0.08333333333333333, 'way': 0.16666666666666666, 'entirely': 0.08333333333333333, 'new': 0.08333333333333333, 'thought': 0.08333333333333333, 'process': 0.08333333333333333, 'beat': 0.08333333333333333, 'incredibly': 0.08333333333333333, 'raise': 0.08333333333333333, 'questions': 0.08333333333333333, 'fight': 0.08333333333333333, 'futile': 0.08333333333333333, 'effort': 0.08333333333333333, 'exerted': 0.08333333333333333, 'trick': 0.08333333333333333, 'better': 0.08333333333333333, 'spent': 0.08333333333333333, 'working': 0.08333333333333333, 'companies': 0.16666666666666666, 'enforce': 0.08333333333333333, 'acceptable': 0.08333333333333333, 'regulations': 0.08333333333333333, 'question': 0.08333333333333333, 'intention': 0.08333333333333333, 'types': 0.16666666666666666, 'fooling': 0.08333333333333333, 'solutions': 0.16666666666666666, 'bad': 0.08333333333333333, 'actors': 0.08333333333333333, 'hoping': 0.08333333333333333, 'sneak': 0.08333333333333333, 'away': 0.08333333333333333, 'undetected': 0.08333333333333333, 'people': 0.08333333333333333, 'concerned': 0.08333333333333333, 'picture': 0.25, 'stored': 0.08333333333333333, 'massive': 0.08333333333333333, 'database': 0.08333333333333333, 'worry': 0.08333333333333333, 'posting': 0.08333333333333333, 'Facebook': 0.08333333333333333, '…': 0.08333333333333333, 'demonstrate': 0.08333333333333333, 'inherent': 0.08333333333333333, 'risk': 0.16666666666666666, 'information': 0.08333333333333333, 'variations': 0.08333333333333333, 'humans': 0.08333333333333333, 'designed': 0.16666666666666666, 'deceive': 0.08333333333333333, 'machine': 0.08333333333333333, 'stand': 0.08333333333333333, 'blend': 0.08333333333333333, 'custom': 0.08333333333333333, 'makeup': 0.08333333333333333, 'hairstyles': 0.08333333333333333, 'masks': 0.08333333333333333, 'pair': 0.08333333333333333, 'glasses': 0.08333333333333333, 'Carnegie': 0.08333333333333333, 'Melon': 0.08333333333333333, 'consisting': 0.08333333333333333, 'camouflage': 0.08333333333333333, 'patterns': 0.08333333333333333, 'simply': 0.08333333333333333, 'wearing': 0.08333333333333333, 'box': 0.08333333333333333, 'head': 0.08333333333333333, 'realistic': 0.08333333333333333, 'fun': 0.08333333333333333, 'techniques': 0.08333333333333333, 'improve': 0.08333333333333333, 'identifying': 0.08333333333333333, 'training': 0.16666666666666666, 'resulting': 0.08333333333333333, 'robust': 0.08333333333333333, 'great': 0.08333333333333333, 'protect': 0.08333333333333333, 'individuals': 0.08333333333333333, 'looking': 0.08333333333333333, 'identity': 0.08333333333333333, 'hidden': 0.08333333333333333, 'nefarious': 0.08333333333333333, 'reasons': 0.08333333333333333, 'concern': 0.08333333333333333, 'detecting': 0.16666666666666666, 'attempt': 0.08333333333333333, 'impersonate': 0.08333333333333333, 'individual': 0.08333333333333333, 'type': 0.08333333333333333, 'difficult': 0.08333333333333333, 'achieve': 0.08333333333333333, 'complexity': 0.08333333333333333, 'depth': 0.08333333333333333, 'measurements': 0.08333333333333333, 'Facial': 0.08333333333333333, 'run': 0.08333333333333333, 'liveness': 0.08333333333333333, 'detection': 0.08333333333333333, 'use': 0.16666666666666666, 'additional': 0.08333333333333333, 'hardware': 0.08333333333333333, 'heat': 0.08333333333333333, 'sensing': 0.08333333333333333, 'tricked': 0.08333333333333333, 'degree': 0.08333333333333333, 'seen': 0.08333333333333333, 'Samsung': 0.08333333333333333, 'Google': 0.08333333333333333, 'availability': 0.08333333333333333, 'public': 0.08333333333333333, 'images': 0.16666666666666666, 'far': 0.08333333333333333, 'concerning': 0.08333333333333333, 'ease': 0.08333333333333333, 'able': 0.08333333333333333, 'render': 0.08333333333333333, 'model': 0.08333333333333333, 'small': 0.08333333333333333, 'set': 0.08333333333333333, 'virtual': 0.08333333333333333, 'reality': 0.08333333333333333, 'tools': 0.08333333333333333, 'project': 0.08333333333333333, 'surface': 0.08333333333333333, 'hacks': 0.16666666666666666, 'alarming': 0.08333333333333333, 'gaining': 0.08333333333333333, 'access': 0.08333333333333333, 'easy': 0.08333333333333333, 'guessing': 0.08333333333333333, '4': 0.08333333333333333, 'digit': 0.08333333333333333, 'passcode': 0.08333333333333333, 'society': 0.08333333333333333, 'deem': 0.08333333333333333, 'tolerable': 0.08333333333333333, 'risks': 0.08333333333333333, 'Ultimately': 0.08333333333333333, 'Trueface': 0.08333333333333333, 'mitigate': 0.08333333333333333, 'consistencies': 0.08333333333333333, 'attacks': 0.08333333333333333, 'identify': 0.08333333333333333, 'occur': 0.08333333333333333, 'continue': 0.08333333333333333, 'played': 0.08333333333333333, 'significantly': 0.08333333333333333, 'sophisticated': 0.08333333333333333, 'adoption': 0.08333333333333333}\n"
     ]
    }
   ],
   "source": [
    "print(word_freq)"
   ]
  },
  {
   "cell_type": "code",
   "execution_count": 20,
   "id": "fa96e68b",
   "metadata": {},
   "outputs": [
    {
     "name": "stdout",
     "output_type": "stream",
     "text": [
      "[In light of recent news from Apple, facial recognition technology is now the talk of the town., Ranging from privacy concerns to a curious boyfriend unlocking his girlfriend’s phone while she sleeps., The first commercial application of 3D facial recognition means that biometric technology is advancing at a staggering rate but so is the ability to hack or fool facial recognition tech.\n",
      "\n",
      ", Today, 99% of the infrastructure scattered around the world consists of 2D cameras capable of running advanced facial recognition software and it will likely be years before a physical overhaul to 3D cameras takes place., Hackers, hobbyists, educators and the like have been developing creative ways to either fool or hide from 2D face recognition in a perpetually innovative game of cat and mouse.\n",
      "\n",
      ", The introduction of 3D recognition will give way to an entirely new thought process of how to beat an incredibly advanced technology, and also raise some questions as to how and by whom it will be used., The fight is futile as the effort exerted to trick this technology is better spent working with the facial recognition companies to enforce acceptable regulations.\n",
      "\n",
      ", First, I question the intention of these types of face recognition-fooling solutions., Are they for bad actors hoping to sneak away undetected?, Are they for people who are concerned about their picture being stored in a massive database (I’d worry more about posting a picture to Facebook…)?, Are they to demonstrate the inherent risk of biometric information?\n",
      "\n",
      ", The variations that humans have designed to deceive the machine are more likely to make you stand out than blend in., Such as custom makeup, hairstyles, masks, a pair of glasses designed at Carnegie Melon consisting of camouflage patterns or simply wearing a box over your head., Some of them are realistic, but most are just for fun.\n",
      "\n",
      ", As these techniques improve, so does the technology capable of identifying and training against them resulting in more robust face recognition software., These solutions seem like a great way to protect individuals who are looking to keep their identity hidden for nefarious reasons.\n",
      "\n",
      ", A further concern would be detecting an attempt to impersonate an individual by using a picture of their face., With 3D cameras, this type of hack is very difficult to achieve due to the complexity of depth measurements., Facial recognition technology can run liveness detection or use additional hardware for heat sensing, both of which are capable of being tricked to a degree as seen with Samsung and Google.\n",
      "\n",
      ", The availability of public facial images is far more concerning due to the ease of which you would be able to render a 3D model from a small set of images and use virtual reality tools to project a face.\n",
      "\n",
      ", On the surface, these types of hacks would seem alarming but if gaining access to your phone now is as easy as guessing a 4-digit passcode, society should deem these tolerable risks.\n",
      "\n",
      ", Ultimately it is on facial recognition companies and Trueface to mitigate this risk by being more innovative, detecting consistencies in attacks and training the technology to identify when hacks occur., This game will continue to be played and become significantly more sophisticated with the adoption of 3D facial recognition.\n",
      "\n",
      "]\n"
     ]
    }
   ],
   "source": [
    "sentence_tok=[sent for sent in doc.sents]\n",
    "print(sentence_tok)"
   ]
  },
  {
   "cell_type": "code",
   "execution_count": 21,
   "id": "f2dccf4c",
   "metadata": {},
   "outputs": [],
   "source": [
    "sent_scores={}\n",
    "for sent in sentence_tok:\n",
    "    for word in sent:\n",
    "        if word.text.lower() in word_freq.keys():\n",
    "            if sent not in sent_scores.keys():\n",
    "                sent_scores[sent]=word_freq[word.text.lower()]\n",
    "            else:\n",
    "                sent_scores[sent]+=word_freq[word.text.lower()]"
   ]
  },
  {
   "cell_type": "code",
   "execution_count": 22,
   "id": "2953da60",
   "metadata": {},
   "outputs": [
    {
     "data": {
      "text/plain": [
       "{In light of recent news from Apple, facial recognition technology is now the talk of the town.: 2.666666666666667,\n",
       " Ranging from privacy concerns to a curious boyfriend unlocking his girlfriend’s phone while she sleeps.: 0.75,\n",
       " The first commercial application of 3D facial recognition means that biometric technology is advancing at a staggering rate but so is the ability to hack or fool facial recognition tech.\n",
       " : 5.916666666666666,\n",
       " Today, 99% of the infrastructure scattered around the world consists of 2D cameras capable of running advanced facial recognition software and it will likely be years before a physical overhaul to 3D cameras takes place.: 3.833333333333334,\n",
       " Hackers, hobbyists, educators and the like have been developing creative ways to either fool or hide from 2D face recognition in a perpetually innovative game of cat and mouse.\n",
       " : 3.666666666666667,\n",
       " The introduction of 3D recognition will give way to an entirely new thought process of how to beat an incredibly advanced technology, and also raise some questions as to how and by whom it will be used.: 2.6666666666666665,\n",
       " The fight is futile as the effort exerted to trick this technology is better spent working with the facial recognition companies to enforce acceptable regulations.\n",
       " : 4.166666666666667,\n",
       " First, I question the intention of these types of face recognition-fooling solutions.: 2.0,\n",
       " Are they for bad actors hoping to sneak away undetected?: 0.49999999999999994,\n",
       " Are they for people who are concerned about their picture being stored in a massive database (I’d worry more about posting a picture to Facebook…)?: 1.1666666666666667,\n",
       " Are they to demonstrate the inherent risk of biometric information?\n",
       " : 1.4166666666666667,\n",
       " The variations that humans have designed to deceive the machine are more likely to make you stand out than blend in.: 0.8333333333333334,\n",
       " Such as custom makeup, hairstyles, masks, a pair of glasses designed at Carnegie Melon consisting of camouflage patterns or simply wearing a box over your head.: 1.2499999999999998,\n",
       " Some of them are realistic, but most are just for fun.\n",
       " : 1.0,\n",
       " As these techniques improve, so does the technology capable of identifying and training against them resulting in more robust face recognition software.: 2.9999999999999996,\n",
       " These solutions seem like a great way to protect individuals who are looking to keep their identity hidden for nefarious reasons.\n",
       " : 2.0,\n",
       " A further concern would be detecting an attempt to impersonate an individual by using a picture of their face.: 1.1666666666666667,\n",
       " With 3D cameras, this type of hack is very difficult to achieve due to the complexity of depth measurements.: 0.9166666666666669,\n",
       " Facial recognition technology can run liveness detection or use additional hardware for heat sensing, both of which are capable of being tricked to a degree as seen with Samsung and Google.\n",
       " : 4.333333333333335,\n",
       " The availability of public facial images is far more concerning due to the ease of which you would be able to render a 3D model from a small set of images and use virtual reality tools to project a face.\n",
       " : 3.5833333333333335,\n",
       " On the surface, these types of hacks would seem alarming but if gaining access to your phone now is as easy as guessing a 4-digit passcode, society should deem these tolerable risks.\n",
       " : 2.416666666666666,\n",
       " Ultimately it is on facial recognition companies and Trueface to mitigate this risk by being more innovative, detecting consistencies in attacks and training the technology to identify when hacks occur.: 3.6666666666666665,\n",
       " This game will continue to be played and become significantly more sophisticated with the adoption of 3D facial recognition.\n",
       " : 3.0833333333333335}"
      ]
     },
     "execution_count": 22,
     "metadata": {},
     "output_type": "execute_result"
    }
   ],
   "source": [
    "sent_scores"
   ]
  },
  {
   "cell_type": "code",
   "execution_count": 23,
   "id": "f2a11097",
   "metadata": {},
   "outputs": [],
   "source": [
    "from heapq import nlargest"
   ]
  },
  {
   "cell_type": "code",
   "execution_count": 24,
   "id": "d2d64cf5",
   "metadata": {},
   "outputs": [
    {
     "data": {
      "text/plain": [
       "6"
      ]
     },
     "execution_count": 24,
     "metadata": {},
     "output_type": "execute_result"
    }
   ],
   "source": [
    "select_len=int(len(sentence_tok)*0.3)\n",
    "select_len"
   ]
  },
  {
   "cell_type": "code",
   "execution_count": 25,
   "id": "722a5528",
   "metadata": {},
   "outputs": [],
   "source": [
    "summary=nlargest(select_len,sent_scores,key=sent_scores.get)"
   ]
  },
  {
   "cell_type": "code",
   "execution_count": 26,
   "id": "e0a9d471",
   "metadata": {},
   "outputs": [
    {
     "data": {
      "text/plain": [
       "[The first commercial application of 3D facial recognition means that biometric technology is advancing at a staggering rate but so is the ability to hack or fool facial recognition tech.\n",
       " ,\n",
       " Facial recognition technology can run liveness detection or use additional hardware for heat sensing, both of which are capable of being tricked to a degree as seen with Samsung and Google.\n",
       " ,\n",
       " The fight is futile as the effort exerted to trick this technology is better spent working with the facial recognition companies to enforce acceptable regulations.\n",
       " ,\n",
       " Today, 99% of the infrastructure scattered around the world consists of 2D cameras capable of running advanced facial recognition software and it will likely be years before a physical overhaul to 3D cameras takes place.,\n",
       " Hackers, hobbyists, educators and the like have been developing creative ways to either fool or hide from 2D face recognition in a perpetually innovative game of cat and mouse.\n",
       " ,\n",
       " Ultimately it is on facial recognition companies and Trueface to mitigate this risk by being more innovative, detecting consistencies in attacks and training the technology to identify when hacks occur.]"
      ]
     },
     "execution_count": 26,
     "metadata": {},
     "output_type": "execute_result"
    }
   ],
   "source": [
    "summary"
   ]
  },
  {
   "cell_type": "code",
   "execution_count": 27,
   "id": "8eb3e5d1",
   "metadata": {},
   "outputs": [
    {
     "data": {
      "text/plain": [
       "['The first commercial application of 3D facial recognition means that biometric technology is advancing at a staggering rate but so is the ability to hack or fool facial recognition tech.\\n\\n',\n",
       " 'Facial recognition technology can run liveness detection or use additional hardware for heat sensing, both of which are capable of being tricked to a degree as seen with Samsung and Google.\\n\\n',\n",
       " 'The fight is futile as the effort exerted to trick this technology is better spent working with the facial recognition companies to enforce acceptable regulations.\\n\\n',\n",
       " 'Today, 99% of the infrastructure scattered around the world consists of 2D cameras capable of running advanced facial recognition software and it will likely be years before a physical overhaul to 3D cameras takes place.',\n",
       " 'Hackers, hobbyists, educators and the like have been developing creative ways to either fool or hide from 2D face recognition in a perpetually innovative game of cat and mouse.\\n\\n',\n",
       " 'Ultimately it is on facial recognition companies and Trueface to mitigate this risk by being more innovative, detecting consistencies in attacks and training the technology to identify when hacks occur.']"
      ]
     },
     "execution_count": 27,
     "metadata": {},
     "output_type": "execute_result"
    }
   ],
   "source": [
    "final_sum=[word.text for word in summary]\n",
    "final_sum"
   ]
  },
  {
   "cell_type": "code",
   "execution_count": 28,
   "id": "dc40c275",
   "metadata": {},
   "outputs": [],
   "source": [
    "summary=' '.join(final_sum)"
   ]
  },
  {
   "cell_type": "code",
   "execution_count": 29,
   "id": "0ae800d6",
   "metadata": {},
   "outputs": [
    {
     "name": "stdout",
     "output_type": "stream",
     "text": [
      "The first commercial application of 3D facial recognition means that biometric technology is advancing at a staggering rate but so is the ability to hack or fool facial recognition tech.\n",
      "\n",
      " Facial recognition technology can run liveness detection or use additional hardware for heat sensing, both of which are capable of being tricked to a degree as seen with Samsung and Google.\n",
      "\n",
      " The fight is futile as the effort exerted to trick this technology is better spent working with the facial recognition companies to enforce acceptable regulations.\n",
      "\n",
      " Today, 99% of the infrastructure scattered around the world consists of 2D cameras capable of running advanced facial recognition software and it will likely be years before a physical overhaul to 3D cameras takes place. Hackers, hobbyists, educators and the like have been developing creative ways to either fool or hide from 2D face recognition in a perpetually innovative game of cat and mouse.\n",
      "\n",
      " Ultimately it is on facial recognition companies and Trueface to mitigate this risk by being more innovative, detecting consistencies in attacks and training the technology to identify when hacks occur.\n"
     ]
    }
   ],
   "source": [
    "print(summary)"
   ]
  },
  {
   "cell_type": "code",
   "execution_count": 30,
   "id": "5febcbae",
   "metadata": {},
   "outputs": [
    {
     "data": {
      "text/plain": [
       "3261"
      ]
     },
     "execution_count": 30,
     "metadata": {},
     "output_type": "execute_result"
    }
   ],
   "source": [
    "len(text)"
   ]
  },
  {
   "cell_type": "code",
   "execution_count": 31,
   "id": "5c949d3d",
   "metadata": {},
   "outputs": [
    {
     "data": {
      "text/plain": [
       "1149"
      ]
     },
     "execution_count": 31,
     "metadata": {},
     "output_type": "execute_result"
    }
   ],
   "source": [
    "len(summary)"
   ]
  },
  {
   "cell_type": "code",
   "execution_count": 32,
   "id": "4891fe45",
   "metadata": {},
   "outputs": [],
   "source": [
    "import numpy as np # linear algebra\n",
    "import pandas as pd # data processing, CSV file I/O (e.g. pd.read_csv)"
   ]
  },
  {
   "cell_type": "code",
   "execution_count": 41,
   "id": "f60b9109",
   "metadata": {},
   "outputs": [
    {
     "name": "stdout",
     "output_type": "stream",
     "text": [
      "C:/Users/aks23/Documents/kaggle/input\\news_summary.csv\n",
      "C:/Users/aks23/Documents/kaggle/input\\news_summary_more.csv\n"
     ]
    }
   ],
   "source": [
    "import os\n",
    "for dirname, _, filenames in os.walk('C:/Users/aks23/Documents/kaggle/input'):\n",
    "    for filename in filenames:\n",
    "        print(os.path.join(dirname, filename))"
   ]
  },
  {
   "cell_type": "code",
   "execution_count": 53,
   "id": "75b23736",
   "metadata": {},
   "outputs": [],
   "source": [
    "summary = pd.read_csv('C:/Users/aks23/Documents/kaggle/input/news_summary.csv', encoding='iso-8859-1')\n",
    "raw = pd.read_csv('C:/Users/aks23/Documents/kaggle/input/news_summary_more.csv', encoding='iso-8859-1')"
   ]
  },
  {
   "cell_type": "code",
   "execution_count": 54,
   "id": "4fe2d3d3",
   "metadata": {},
   "outputs": [],
   "source": [
    "pre1 =  raw.iloc[:,0:2].copy()\n",
    "# pre1['head + text'] = pre1['headlines'].str.cat(pre1['text'], sep =\" \") \n",
    "\n",
    "pre2 = summary.iloc[:,0:6].copy()\n",
    "pre2['text'] = pre2['author'].str.cat(pre2['date'].str.cat(pre2['read_more'].str.cat(pre2['text'].str.cat(pre2['ctext'], sep = \" \"), sep =\" \"),sep= \" \"), sep = \" \")"
   ]
  },
  {
   "cell_type": "code",
   "execution_count": 55,
   "id": "03754e8b",
   "metadata": {},
   "outputs": [],
   "source": [
    "pre = pd.DataFrame()\n",
    "pre['text'] = pd.concat([pre1['text'], pre2['text']], ignore_index=True)\n",
    "pre['summary'] = pd.concat([pre1['headlines'],pre2['headlines']],ignore_index = True)"
   ]
  },
  {
   "cell_type": "code",
   "execution_count": 56,
   "id": "de7493fa",
   "metadata": {},
   "outputs": [
    {
     "data": {
      "text/html": [
       "<div>\n",
       "<style scoped>\n",
       "    .dataframe tbody tr th:only-of-type {\n",
       "        vertical-align: middle;\n",
       "    }\n",
       "\n",
       "    .dataframe tbody tr th {\n",
       "        vertical-align: top;\n",
       "    }\n",
       "\n",
       "    .dataframe thead th {\n",
       "        text-align: right;\n",
       "    }\n",
       "</style>\n",
       "<table border=\"1\" class=\"dataframe\">\n",
       "  <thead>\n",
       "    <tr style=\"text-align: right;\">\n",
       "      <th></th>\n",
       "      <th>text</th>\n",
       "      <th>summary</th>\n",
       "    </tr>\n",
       "  </thead>\n",
       "  <tbody>\n",
       "    <tr>\n",
       "      <th>0</th>\n",
       "      <td>Saurav Kant, an alumnus of upGrad and IIIT-B's...</td>\n",
       "      <td>upGrad learner switches to career in ML &amp; Al w...</td>\n",
       "    </tr>\n",
       "    <tr>\n",
       "      <th>1</th>\n",
       "      <td>Kunal Shah's credit card bill payment platform...</td>\n",
       "      <td>Delhi techie wins free food from Swiggy for on...</td>\n",
       "    </tr>\n",
       "  </tbody>\n",
       "</table>\n",
       "</div>"
      ],
      "text/plain": [
       "                                                text  \\\n",
       "0  Saurav Kant, an alumnus of upGrad and IIIT-B's...   \n",
       "1  Kunal Shah's credit card bill payment platform...   \n",
       "\n",
       "                                             summary  \n",
       "0  upGrad learner switches to career in ML & Al w...  \n",
       "1  Delhi techie wins free food from Swiggy for on...  "
      ]
     },
     "execution_count": 56,
     "metadata": {},
     "output_type": "execute_result"
    }
   ],
   "source": [
    "pre.head(2)"
   ]
  },
  {
   "cell_type": "code",
   "execution_count": 57,
   "id": "b3cfbe02",
   "metadata": {},
   "outputs": [
    {
     "data": {
      "text/plain": [
       "0    Saurav Kant, an alumnus of upGrad and IIIT-B's...\n",
       "1    Kunal Shah's credit card bill payment platform...\n",
       "2    New Zealand defeated India by 8 wickets in the...\n",
       "3    With Aegon Life iTerm Insurance plan, customer...\n",
       "4    Speaking about the sexual harassment allegatio...\n",
       "5    Pakistani singer Rahat Fateh Ali Khan has deni...\n",
       "6    India recorded their lowest ODI total in New Z...\n",
       "7    Weeks after ex-CBI Director Alok Verma told th...\n",
       "8    Andhra Pradesh CM N Chandrababu Naidu has said...\n",
       "9    Congress candidate Shafia Zubair won the Ramga...\n",
       "Name: text, dtype: object"
      ]
     },
     "execution_count": 57,
     "metadata": {},
     "output_type": "execute_result"
    }
   ],
   "source": [
    "#LSTM with Attention\n",
    "#pip install keras-self-attention\n",
    "\n",
    "pre['text'][:10]"
   ]
  },
  {
   "cell_type": "code",
   "execution_count": 58,
   "id": "6aefca9a",
   "metadata": {},
   "outputs": [],
   "source": [
    "import re\n",
    "\n",
    "#Removes non-alphabetic characters:\n",
    "def text_strip(column):\n",
    "    for row in column:\n",
    "        \n",
    "        #ORDER OF REGEX IS VERY VERY IMPORTANT!!!!!!\n",
    "        \n",
    "        row=re.sub(\"(\\\\t)\", ' ', str(row)).lower() #remove escape charecters\n",
    "        row=re.sub(\"(\\\\r)\", ' ', str(row)).lower() \n",
    "        row=re.sub(\"(\\\\n)\", ' ', str(row)).lower()\n",
    "        \n",
    "        row=re.sub(\"(__+)\", ' ', str(row)).lower()   #remove _ if it occors more than one time consecutively\n",
    "        row=re.sub(\"(--+)\", ' ', str(row)).lower()   #remove - if it occors more than one time consecutively\n",
    "        row=re.sub(\"(~~+)\", ' ', str(row)).lower()   #remove ~ if it occors more than one time consecutively\n",
    "        row=re.sub(\"(\\+\\++)\", ' ', str(row)).lower()   #remove + if it occors more than one time consecutively\n",
    "        row=re.sub(\"(\\.\\.+)\", ' ', str(row)).lower()   #remove . if it occors more than one time consecutively\n",
    "        \n",
    "        row=re.sub(r\"[<>()|&©ø\\[\\]\\'\\\",;?~*!]\", ' ', str(row)).lower() #remove <>()|&©ø\"',;?~*!\n",
    "        \n",
    "        row=re.sub(\"(mailto:)\", ' ', str(row)).lower() #remove mailto:\n",
    "        row=re.sub(r\"(\\\\x9\\d)\", ' ', str(row)).lower() #remove \\x9* in text\n",
    "        row=re.sub(\"([iI][nN][cC]\\d+)\", 'INC_NUM', str(row)).lower() #replace INC nums to INC_NUM\n",
    "        row=re.sub(\"([cC][mM]\\d+)|([cC][hH][gG]\\d+)\", 'CM_NUM', str(row)).lower() #replace CM# and CHG# to CM_NUM\n",
    "        \n",
    "        \n",
    "        row=re.sub(\"(\\.\\s+)\", ' ', str(row)).lower() #remove full stop at end of words(not between)\n",
    "        row=re.sub(\"(\\-\\s+)\", ' ', str(row)).lower() #remove - at end of words(not between)\n",
    "        row=re.sub(\"(\\:\\s+)\", ' ', str(row)).lower() #remove : at end of words(not between)\n",
    "        \n",
    "        row=re.sub(\"(\\s+.\\s+)\", ' ', str(row)).lower() #remove any single charecters hanging between 2 spaces\n",
    "        \n",
    "        #Replace any url as such https://abc.xyz.net/browse/sdf-5327 ====> abc.xyz.net\n",
    "        try:\n",
    "            url = re.search(r'((https*:\\/*)([^\\/\\s]+))(.[^\\s]+)', str(row))\n",
    "            repl_url = url.group(3)\n",
    "            row = re.sub(r'((https*:\\/*)([^\\/\\s]+))(.[^\\s]+)',repl_url, str(row))\n",
    "        except:\n",
    "            pass #there might be emails with no url in them\n",
    "        \n",
    "\n",
    "        \n",
    "        row = re.sub(\"(\\s+)\",' ',str(row)).lower() #remove multiple spaces\n",
    "        \n",
    "        #Should always be last\n",
    "        row=re.sub(\"(\\s+.\\s+)\", ' ', str(row)).lower() #remove any single charecters hanging between 2 spaces\n",
    "\n",
    "        \n",
    "        \n",
    "        yield row"
   ]
  },
  {
   "cell_type": "code",
   "execution_count": 59,
   "id": "cb4d417c",
   "metadata": {},
   "outputs": [],
   "source": [
    "brief_cleaning1 = text_strip(pre['text'])\n",
    "brief_cleaning2 = text_strip(pre['summary'])"
   ]
  },
  {
   "cell_type": "code",
   "execution_count": 66,
   "id": "fdb0f36e",
   "metadata": {},
   "outputs": [
    {
     "ename": "TypeError",
     "evalue": "pipe() got an unexpected keyword argument 'n_threads'",
     "output_type": "error",
     "traceback": [
      "\u001b[1;31m---------------------------------------------------------------------------\u001b[0m",
      "\u001b[1;31mTypeError\u001b[0m                                 Traceback (most recent call last)",
      "\u001b[1;32m~\\AppData\\Local\\Temp/ipykernel_27612/1618471681.py\u001b[0m in \u001b[0;36m<module>\u001b[1;34m\u001b[0m\n\u001b[0;32m      9\u001b[0m \u001b[1;33m\u001b[0m\u001b[0m\n\u001b[0;32m     10\u001b[0m \u001b[1;31m#Batch the data points into 5000 and run on all cores for faster preprocessing\u001b[0m\u001b[1;33m\u001b[0m\u001b[1;33m\u001b[0m\u001b[0m\n\u001b[1;32m---> 11\u001b[1;33m \u001b[0mtext\u001b[0m \u001b[1;33m=\u001b[0m \u001b[1;33m[\u001b[0m\u001b[0mstr\u001b[0m\u001b[1;33m(\u001b[0m\u001b[0mdoc\u001b[0m\u001b[1;33m)\u001b[0m \u001b[1;32mfor\u001b[0m \u001b[0mdoc\u001b[0m \u001b[1;32min\u001b[0m \u001b[0mnlp\u001b[0m\u001b[1;33m.\u001b[0m\u001b[0mpipe\u001b[0m\u001b[1;33m(\u001b[0m\u001b[0mbrief_cleaning1\u001b[0m\u001b[1;33m,\u001b[0m \u001b[0mbatch_size\u001b[0m\u001b[1;33m=\u001b[0m\u001b[1;36m5000\u001b[0m\u001b[1;33m,\u001b[0m \u001b[0mn_threads\u001b[0m\u001b[1;33m=\u001b[0m\u001b[1;33m-\u001b[0m\u001b[1;36m1\u001b[0m\u001b[1;33m)\u001b[0m\u001b[1;33m]\u001b[0m\u001b[1;33m\u001b[0m\u001b[1;33m\u001b[0m\u001b[0m\n\u001b[0m\u001b[0;32m     12\u001b[0m \u001b[1;33m\u001b[0m\u001b[0m\n\u001b[0;32m     13\u001b[0m \u001b[1;31m#Takes 7-8 mins\u001b[0m\u001b[1;33m\u001b[0m\u001b[1;33m\u001b[0m\u001b[0m\n",
      "\u001b[1;31mTypeError\u001b[0m: pipe() got an unexpected keyword argument 'n_threads'"
     ]
    }
   ],
   "source": [
    "from time import time\n",
    "import spacy\n",
    "nlp = spacy.load('en_core_web_sm', disable=['ner', 'parser']) # disabling Named Entity Recognition for speed\n",
    "\n",
    "#Taking advantage of spaCy .pipe() method to speed-up the cleaning process:\n",
    "#If data loss seems to be happening(i.e len(text) = 50 instead of 75 etc etc) in this cell , decrease the batch_size parametre \n",
    "\n",
    "t = time()\n",
    "\n",
    "#Batch the data points into 5000 and run on all cores for faster preprocessing\n",
    "text = [str(doc) for doc in nlp.pipe(brief_cleaning1, batch_size=5000, n_process=-1)]\n",
    "\n",
    "#Takes 7-8 mins\n",
    "print('Time to clean up everything: {} mins'.format(round((time() - t) / 60, 2)))"
   ]
  },
  {
   "cell_type": "code",
   "execution_count": null,
   "id": "17868a60",
   "metadata": {},
   "outputs": [],
   "source": []
  }
 ],
 "metadata": {
  "kernelspec": {
   "display_name": "Python 3 (ipykernel)",
   "language": "python",
   "name": "python3"
  },
  "language_info": {
   "codemirror_mode": {
    "name": "ipython",
    "version": 3
   },
   "file_extension": ".py",
   "mimetype": "text/x-python",
   "name": "python",
   "nbconvert_exporter": "python",
   "pygments_lexer": "ipython3",
   "version": "3.9.7"
  }
 },
 "nbformat": 4,
 "nbformat_minor": 5
}
